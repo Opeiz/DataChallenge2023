{
 "cells": [
  {
   "cell_type": "code",
   "execution_count": 7,
   "id": "06a5acc0",
   "metadata": {},
   "outputs": [],
   "source": [
    "import pandas as pd\n",
    "import numpy as np\n",
    "import os\n",
    "import xarray as xr\n",
    "import io\n",
    "import json\n",
    "import imageio\n",
    "\n",
    "from matplotlib import pyplot as plt"
   ]
  },
  {
   "cell_type": "code",
   "execution_count": 14,
   "id": "b650583d",
   "metadata": {},
   "outputs": [
    {
     "data": {
      "text/plain": [
       "(<xarray.Dataset>\n",
       " Dimensions:  (time: 42, lat: 200, lon: 200)\n",
       " Coordinates:\n",
       "   * time     (time) datetime64[ns] 2009-10-22 2009-10-23 ... 2009-12-02\n",
       "   * lat      (lat) float64 33.05 33.1 33.15 33.2 33.25 ... 42.85 42.9 42.95 43.0\n",
       "   * lon      (lon) float64 -64.95 -64.9 -64.85 -64.8 ... -55.1 -55.05 -55.0\n",
       " Data variables:\n",
       "     rec_ssh  (time, lat, lon) float64 ...,\n",
       " <xarray.Dataset>\n",
       " Dimensions:  (time: 42, lat: 200, lon: 200)\n",
       " Coordinates:\n",
       "   * time     (time) datetime64[ns] 2009-10-22 2009-10-23 ... 2009-12-02\n",
       "   * lat      (lat) float64 33.05 33.1 33.15 33.2 33.25 ... 42.85 42.9 42.95 43.0\n",
       "   * lon      (lon) float64 -64.95 -64.9 -64.85 -64.8 ... -55.1 -55.05 -55.0\n",
       " Data variables:\n",
       "     ssh      (time, lat, lon) float64 ...)"
      ]
     },
     "execution_count": 14,
     "metadata": {},
     "output_type": "execute_result"
    }
   ],
   "source": [
    "da_rec = xr.open_dataset(\"../rec.nc\")\n",
    "da_ref = xr.open_dataset(\"../ref.nc\")\n",
    "da_rec,da_ref"
   ]
  },
  {
   "cell_type": "code",
   "execution_count": 13,
   "id": "3cf39726",
   "metadata": {},
   "outputs": [],
   "source": [
    "images = []\n",
    "\n",
    "for i in range(len(da_ref.time)):\n",
    "    \n",
    "    da_ref.ssh.where(lambda ds: np.abs(ds)<10, np.nan).isel(time=i).plot(figsize=(35,20))\n",
    "        \n",
    "    buffer = io.BytesIO()\n",
    "    plt.savefig(buffer, format='png')\n",
    "    buffer.seek(0)\n",
    "    images.append(imageio.imread(buffer))\n",
    "    plt.close()\n",
    "\n",
    "imageio.mimsave('animation_ref.gif', images, duration=0.02)"
   ]
  },
  {
   "cell_type": "code",
   "execution_count": null,
   "id": "a68f7e1e",
   "metadata": {},
   "outputs": [],
   "source": []
  }
 ],
 "metadata": {
  "kernelspec": {
   "display_name": "Python 3 (ipykernel)",
   "language": "python",
   "name": "python3"
  },
  "language_info": {
   "codemirror_mode": {
    "name": "ipython",
    "version": 3
   },
   "file_extension": ".py",
   "mimetype": "text/x-python",
   "name": "python",
   "nbconvert_exporter": "python",
   "pygments_lexer": "ipython3",
   "version": "3.10.6"
  }
 },
 "nbformat": 4,
 "nbformat_minor": 5
}

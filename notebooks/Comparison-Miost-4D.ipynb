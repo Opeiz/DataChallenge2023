{
 "cells": [
  {
   "attachments": {},
   "cell_type": "markdown",
   "id": "b742e8af",
   "metadata": {},
   "source": [
    "## Notebook for comparison between MIOST method and 4DVarnet\n",
    "#### Ala Bacca, Joaquin Opazo"
   ]
  },
  {
   "cell_type": "code",
   "execution_count": 1,
   "id": "ec01269d",
   "metadata": {},
   "outputs": [],
   "source": [
    "import pandas as pd\n",
    "import numpy as np\n",
    "import os\n",
    "\n",
    "from matplotlib import pyplot as plt"
   ]
  },
  {
   "cell_type": "code",
   "execution_count": 2,
   "id": "738799b6",
   "metadata": {},
   "outputs": [],
   "source": [
    "varnet = pd.read_csv('4d.csv').replace('rec_ssh', '4d').sort_values(by='domain')\n",
    "# varnet"
   ]
  },
  {
   "cell_type": "code",
   "execution_count": 3,
   "id": "70d45d67",
   "metadata": {},
   "outputs": [],
   "source": [
    "miost = pd.read_csv('miost.csv').drop(columns=['LON','LAT']).replace('rec_ssh', 'miost').sort_values(by='domain')\n",
    "# miost"
   ]
  },
  {
   "cell_type": "code",
   "execution_count": 4,
   "id": "6a2ccd80",
   "metadata": {},
   "outputs": [],
   "source": [
    "merged = pd.merge(varnet, miost, on=['domain','period'])\n",
    "# merged"
   ]
  },
  {
   "cell_type": "code",
   "execution_count": 5,
   "id": "540785b7",
   "metadata": {},
   "outputs": [],
   "source": [
    "Seasons = merged.period.unique()\n",
    "# Seasons"
   ]
  },
  {
   "attachments": {},
   "cell_type": "markdown",
   "id": "dff9811a",
   "metadata": {},
   "source": [
    "## Data comparison"
   ]
  },
  {
   "attachments": {},
   "cell_type": "markdown",
   "id": "49eea241",
   "metadata": {},
   "source": [
    "### - By Season"
   ]
  },
  {
   "cell_type": "code",
   "execution_count": 6,
   "id": "bf6bcf9c",
   "metadata": {},
   "outputs": [],
   "source": [
    "dfs = []\n",
    "for i in Seasons:\n",
    "    df_temp = merged.loc[merged['period'] == i]\n",
    "    dfs.append(df_temp)"
   ]
  },
  {
   "cell_type": "code",
   "execution_count": 7,
   "id": "aeb11329",
   "metadata": {
    "scrolled": true
   },
   "outputs": [],
   "source": [
    "def plot_data(df,name):  \n",
    "    \n",
    "    fig, (ax1, ax2, ax3) = plt.subplots(3,figsize=(15, 10))\n",
    "    fig.suptitle('Comparison Values ' + str(name))\n",
    "    \n",
    "    bar_width = 0.35  # Ancho de las barras\n",
    "    domain = np.arange(len(df['domain']))  # Rango de dominio\n",
    "    \n",
    "    # Barras para lt_x y lt_y\n",
    "    ax1.bar(domain, df[\"lt_x\"], width=bar_width, label='lt_4D')\n",
    "    ax1.bar(domain + bar_width, df[\"lt_y\"], width=bar_width, label='lt_Miost')\n",
    "    ax1.set_xticks(domain + bar_width / 2)\n",
    "    ax1.set_xticklabels(df['domain'])\n",
    "    ax1.legend()\n",
    "    \n",
    "    # Barras para lx_x y lx_y\n",
    "    ax2.bar(domain, df[\"lx_x\"], width=bar_width, label='lx_4D')\n",
    "    ax2.bar(domain + bar_width, df[\"lx_y\"], width=bar_width, label='lx_Miost')\n",
    "    ax2.set_xticks(domain + bar_width / 2)\n",
    "    ax2.set_xticklabels(df['domain'])\n",
    "    ax2.legend()\n",
    "    \n",
    "    # Barras para mu_x y mu_y\n",
    "    ax3.bar(domain, df[\"mu_x\"], width=bar_width, label='mu_4D')\n",
    "    ax3.bar(domain + bar_width, df[\"mu_y\"], width=bar_width, label='mu_Miost')\n",
    "    ax3.set_xticks(domain + bar_width / 2)\n",
    "    ax3.set_xticklabels(df['domain'])\n",
    "    ax3.set_ylim([.8, 1])\n",
    "    ax3.legend()\n",
    "\n",
    "    path = os.path.join(\"../notebooks/images/\",name)\n",
    "    \n",
    "    plt.savefig(path)"
   ]
  },
  {
   "cell_type": "code",
   "execution_count": null,
   "id": "48b854cf",
   "metadata": {},
   "outputs": [],
   "source": [
    "for i in range(5):\n",
    "    plot_data(dfs[i],Seasons[i])"
   ]
  },
  {
   "attachments": {},
   "cell_type": "markdown",
   "id": "1026c348",
   "metadata": {},
   "source": [
    "### - By Domain"
   ]
  },
  {
   "cell_type": "code",
   "execution_count": 9,
   "id": "8f64ffde",
   "metadata": {
    "scrolled": false
   },
   "outputs": [],
   "source": [
    "sort_merged = merged\n",
    "sort_merged['period'] = pd.Categorical(sort_merged['period'], Seasons)\n",
    "sort_merged = merged.sort_values('period')"
   ]
  },
  {
   "cell_type": "code",
   "execution_count": 10,
   "id": "2bc47585",
   "metadata": {},
   "outputs": [],
   "source": [
    "def plot_data2(df, name):\n",
    "        \n",
    "    fig, ((ax1, ax2),(ax3, ax4),(ax5, ax6)) = plt.subplots(3,2,figsize=(15, 10),gridspec_kw={'width_ratios': [3, 1]})\n",
    "    fig.suptitle('Comparison Values ' + str(name))\n",
    "    \n",
    "    bar_width = 0.35  # Ancho de las barras\n",
    "    periods = np.arange(len(df['period'])-1)  # Rango de dominio\n",
    "    \n",
    "    Meses = ['January-February', 'April-May', 'July-August', 'Octobre-Novembre']\n",
    "    Year = 'Year'\n",
    "    \n",
    "    df_m = df.drop(df[df['period'] == 'Year'].index)\n",
    "    df_y = df.loc[df['period'] == Year]\n",
    "    \n",
    "    # Barras para lt_x y lt_y\n",
    "    ax1.bar(periods, df_m[\"lt_x\"] , width=bar_width, label='lt_4D')\n",
    "    ax1.bar(periods + bar_width, df_m['lt_y'] , width=bar_width, label='lt_Miost')\n",
    "    ax1.set_xticks(periods + bar_width / 2)\n",
    "    ax1.set_xticklabels(Meses)\n",
    "    ax1.legend()\n",
    "    \n",
    "    # Barras para lx_x y lx_y\n",
    "    ax3.bar(periods, df_m[\"lx_x\"], width=bar_width, label='lx_4D')\n",
    "    ax3.bar(periods + bar_width, df_m[\"lx_y\"], width=bar_width, label='lx_Miost')\n",
    "    ax3.set_xticks(periods + bar_width / 2)\n",
    "    ax3.set_xticklabels(Meses)\n",
    "    ax3.legend()\n",
    "    \n",
    "    # Barras para mu_x y mu_y\n",
    "    ax5.bar(periods, df_m[\"mu_x\"], width=bar_width, label='mu_4D')\n",
    "    ax5.bar(periods + bar_width, df_m[\"mu_y\"], width=bar_width, label='mu_Miost')\n",
    "    ax5.set_xticks(periods + bar_width / 2)\n",
    "    ax5.set_xticklabels(Meses)\n",
    "    ax5.set_ylim([.8, 1])\n",
    "    ax5.legend()\n",
    "    \n",
    "    # Barras para lt_x y lt_y\n",
    "    ax2.bar(1, df_y[\"lt_x\"], width=bar_width, label='lt_4D')\n",
    "    ax2.bar(1 + bar_width, df_y[\"lt_y\"], width=bar_width, label='lt_Miost')\n",
    "    ax2.legend()\n",
    "    \n",
    "    # Barras para lx_x y lx_y\n",
    "    ax4.bar(1, df_y[\"lx_x\"], width=bar_width, label='lx_4D')\n",
    "    ax4.bar(1 + bar_width, df_y[\"lx_y\"], width=bar_width, label='lx_Miost')\n",
    "    ax4.legend()\n",
    "    \n",
    "    # Barras para mu_x y mu_y\n",
    "    ax6.bar(1, df_y[\"mu_x\"], width=bar_width, label='mu_4D')\n",
    "    ax6.bar(1 + bar_width, df_y[\"mu_y\"], width=bar_width, label='mu_Miost')\n",
    "    ax6.set_xlabel(Year)\n",
    "    ax6.legend()\n",
    "    \n",
    "    path = os.path.join(\"../notebooks/images/\",name)\n",
    "    \n",
    "    plt.savefig(path)"
   ]
  },
  {
   "cell_type": "code",
   "execution_count": null,
   "id": "5c94abf5",
   "metadata": {
    "scrolled": true
   },
   "outputs": [],
   "source": [
    "domains = sort_merged['domain'].unique()\n",
    "for i in domains:\n",
    "    plot_data2(sort_merged.loc[sort_merged['domain'] == i],i)"
   ]
  }
 ],
 "metadata": {
  "kernelspec": {
   "display_name": "Python 3 (ipykernel)",
   "language": "python",
   "name": "python3"
  },
  "language_info": {
   "codemirror_mode": {
    "name": "ipython",
    "version": 3
   },
   "file_extension": ".py",
   "mimetype": "text/x-python",
   "name": "python",
   "nbconvert_exporter": "python",
   "pygments_lexer": "ipython3",
   "version": "3.9.16"
  }
 },
 "nbformat": 4,
 "nbformat_minor": 5
}
